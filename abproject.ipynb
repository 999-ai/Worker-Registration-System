{
 "cells": [
  {
   "cell_type": "code",
   "execution_count": null,
   "id": "78b7bd58-c869-4c45-803a-505145a668aa",
   "metadata": {},
   "outputs": [],
   "source": [
    "class Workerr:\n",
    "  def __init__(self,name,position,salary):\n",
    "    self.name=name\n",
    "    self.position=position\n",
    "    self.salary=salary\n",
    "  def promotion(self,promotion):\n",
    "    self.salary+=promotion\n",
    "    print(f\"new salary is {self.salary}\")\n",
    "  def __str__(self):\n",
    "    return f\"salary and position of {self.name} is {self.salary},{self.position}\"\n",
    "worker_list={}\n",
    "\n",
    "def add_workers():\n",
    "    new_name=input(\"type a name of new worker\")\n",
    "    positionn=input(\"what is the position of new worker?\")\n",
    "    salaryy=int(input(\"how salary will you give him?\"))\n",
    "    worker_list[new_name]=Workerr(new_name,positionn,salaryy)\n",
    "    print(f\"{new_name}'s info is added to worker list\")\n",
    "\n",
    "def show_info():\n",
    "    for worker in worker_list.values():\n",
    "        print(worker)\n",
    "\n",
    "def main():\n",
    "    print(\"1.Add workers to list\")\n",
    "    print(\"2.Dislay workers info\")\n",
    "    print(\"3.Promote to salary\")\n",
    "    print(\"4.exit\")\n",
    "    while True:\n",
    "     selection=int(input(\"what is your selection\"))\n",
    "     if selection == 1:\n",
    "            add_workers()\n",
    "     elif selection == 2:\n",
    "            show_info()\n",
    "     elif selection == 3:\n",
    "            name=input(\"what is the worker's name\")\n",
    "         \n",
    "            if name in worker_list:\n",
    "                promotion=float(input(\"his promotion?\"))\n",
    "                worker_list[name].promotion(promotion)\n",
    "            print(\"the worker's name is not in the worker list\")\n",
    "     elif selection==4:\n",
    "            break\n",
    "     else:\n",
    "            print(\"invalid selection\")\n",
    "\n",
    "if __name__==\"__main__\":\n",
    "  main()\n",
    "                   "
   ]
  }
 ],
 "metadata": {
  "kernelspec": {
   "display_name": "Python 3 (ipykernel)",
   "language": "python",
   "name": "python3"
  },
  "language_info": {
   "codemirror_mode": {
    "name": "ipython",
    "version": 3
   },
   "file_extension": ".py",
   "mimetype": "text/x-python",
   "name": "python",
   "nbconvert_exporter": "python",
   "pygments_lexer": "ipython3",
   "version": "3.12.4"
  }
 },
 "nbformat": 4,
 "nbformat_minor": 5
}
